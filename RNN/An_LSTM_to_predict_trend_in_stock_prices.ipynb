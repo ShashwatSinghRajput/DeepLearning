{
 "cells": [
  {
   "cell_type": "markdown",
   "metadata": {
    "id": "Avrrtctrnjnh"
   },
   "source": [
    "A Long Short-term Memory (LSTM) which predicts upwards or downwards trend for GOOG stock price for next 18 days. LSTM is a type of Recurring Neural Network (RNN), where we set the value of Recurring weights (W rec) as 1. \n",
    "\n",
    "LSTM is expected to perform better than ARIMA model. Dropout regularisation will avoid overfitting"
   ]
  },
  {
   "cell_type": "markdown",
   "metadata": {
    "id": "lazQ9Whtr9Ig"
   },
   "source": [
    "# Part 1: Data Preprocessing"
   ]
  },
  {
   "cell_type": "markdown",
   "metadata": {
    "id": "_PhdSvbysC85"
   },
   "source": [
    "## Importing the libraries"
   ]
  },
  {
   "cell_type": "code",
   "execution_count": 38,
   "metadata": {
    "id": "tYM5WJcvnFaq"
   },
   "outputs": [],
   "source": [
    "import pandas as pd\n",
    "import numpy as np\n",
    "import matplotlib.pyplot as plt"
   ]
  },
  {
   "cell_type": "markdown",
   "metadata": {
    "id": "j6obolcUsOCH"
   },
   "source": [
    "## Importing the Training set"
   ]
  },
  {
   "cell_type": "markdown",
   "metadata": {
    "id": "rIH6HBDPscIR"
   },
   "source": [
    "Keeping separate the training and test set so that RNN is not acquainted with test set. \n",
    "\n",
    "Creating a numpy array from the open price column using iloc because that is what we are interested in"
   ]
  },
  {
   "cell_type": "code",
   "execution_count": 39,
   "metadata": {
    "id": "2ah5cfe9s279"
   },
   "outputs": [],
   "source": [
    "dataset_train = pd.read_csv('Google_Stock_Price_Train.csv')\n",
    "training_set = dataset_train.iloc[:, 1:2].values\n",
    "# : selects all the rows. we use  1:2 for selecting column 2 because that lower bound is selected and upper bound is ingnored"
   ]
  },
  {
   "cell_type": "markdown",
   "metadata": {
    "id": "1IUqaF-3uUF0"
   },
   "source": [
    "## Feature Scaling\n",
    "Two common ways of applying Feature Scaling are:\n",
    "\n",
    "* **Standardisation** X(stand) = [X - mean(X)] / stdev(X)\n",
    "\n",
    "* **Normalisation** X(norm) = [X - min(X)] / [max(X) - min(X)]\n",
    "\n",
    "If there is a sigmoid activation function involved in the construction of an RNN, it is recommended to apply Normalisation. MinMaxScalar class from scikit learn library is used to do this"
   ]
  },
  {
   "cell_type": "code",
   "execution_count": 40,
   "metadata": {
    "id": "jBzKZSrOt-Fp"
   },
   "outputs": [],
   "source": [
    "from sklearn.preprocessing import MinMaxScaler\n",
    "# creating an object sc in minmaxscalar class. Normalising(Scaling) stock prices between 0 and 1\n",
    "sc = MinMaxScaler(feature_range = (0,1))\n",
    "# using fit_transform method for scaling training_set\n",
    "training_set_scaled = sc.fit_transform(training_set)"
   ]
  },
  {
   "cell_type": "markdown",
   "metadata": {
    "id": "LF57ybivyBBN"
   },
   "source": [
    "## Number of timesteps and output\n",
    "This datastructure specifies what our RNN needs to remember when predicting next stock price. \n",
    "\n",
    "It is important to have an optimal number of timesteps or else it might lead to overfitting or non-sense predictions\n",
    "\n",
    "Here we choose 60 timesteps (approx. 3 months since we have daily data) and 1 output. This means that our RNN will try to learn from 60 past prices to understand some trend and on the basis of that, it will predict the next price\n"
   ]
  },
  {
   "cell_type": "code",
   "execution_count": 41,
   "metadata": {
    "id": "8hiYc7npxyX0"
   },
   "outputs": [],
   "source": [
    "# Creating empty lists for inputs to Neural Network (x_train) and output (y_train)\n",
    "# for each day x_train will contain 60 previous day prices, and y_train will contan next day's predicted price\n",
    "x_train = []\n",
    "y_train = []\n",
    "# populating these empty lists with a for loop. we need to start with the 61st observation to get 60 previous prices\n",
    "# Total observations in training set are 1257\n",
    "for i in range(60, 1258):\n",
    "  x_train.append(training_set_scaled[i-60 : i, 0]) # choosing previous 60 observations in column 1 (We only have one column)\n",
    "  y_train.append(training_set_scaled[i , 0])\n",
    "# creating a numpy array with these lists\n",
    "x_train, y_train = np.array(x_train), np.array(y_train)"
   ]
  },
  {
   "cell_type": "markdown",
   "metadata": {
    "id": "HtHcLaRY29AF"
   },
   "source": [
    "## Reshaping\n",
    "Adds the number of predictors to predict stock prices. This could be other stock's prices or another time-series data. It is done using input_dim\n",
    "Keras expects inputs for RNN as N-D tensor with shape [batch_size, timesteps, ...] or [timesteps, batch_size, ...] when time_major is True."
   ]
  },
  {
   "cell_type": "code",
   "execution_count": 42,
   "metadata": {
    "id": "AqHfLuS_2TeF"
   },
   "outputs": [],
   "source": [
    "x_train = np.reshape(x_train, (x_train.shape[0], x_train.shape[1], 1))\n",
    "# selecting number of rows uisng [0] and number of columns using [1]. The 1 at the end is the number of predictors "
   ]
  },
  {
   "cell_type": "markdown",
   "metadata": {
    "id": "Mf571GxkZYT9"
   },
   "source": [
    "# Part 2: Building an RNN\n",
    "a stacked LSTM with dropout  regularisation to avoid overfitting"
   ]
  },
  {
   "cell_type": "markdown",
   "metadata": {
    "id": "9sKz_U5WZvVv"
   },
   "source": [
    "## Importing Keras libraries and packages"
   ]
  },
  {
   "cell_type": "code",
   "execution_count": 43,
   "metadata": {
    "id": "_LhnS76S7rsx"
   },
   "outputs": [],
   "source": [
    "from keras.models import Sequential\n",
    "from keras.layers import Dense\n",
    "from keras.layers import LSTM\n",
    "from keras.layers import Dropout"
   ]
  },
  {
   "cell_type": "markdown",
   "metadata": {
    "id": "LNnb6z9dhrXD"
   },
   "source": [
    "## Initialising the RNN\n",
    "Initialise the Reccuring Neural Network as a sequence of layers.\n",
    "\n",
    "We are predicting continuous outcomes (prices), hence we need to perform regression"
   ]
  },
  {
   "cell_type": "code",
   "execution_count": 44,
   "metadata": {
    "id": "L2mp8ePyaEMA"
   },
   "outputs": [],
   "source": [
    "regressor = Sequential()"
   ]
  },
  {
   "cell_type": "markdown",
   "metadata": {
    "id": "YVHkQosxitVP"
   },
   "source": [
    "## Adding first LSTM layer and dropout regularisation\n",
    "\n",
    "it is better to choose a large number of units(neurons) for higher dimensionality. Return sequences is set to True because we have multiple layers. Using dropout we can specify the number of neurons to ignore during regularisation. Here we use 20% dropout. So during forward and backpropagation 20% of neurons (10) will be ignored"
   ]
  },
  {
   "cell_type": "code",
   "execution_count": 45,
   "metadata": {
    "id": "EN3NwlEoizAb"
   },
   "outputs": [],
   "source": [
    "regressor.add(LSTM(units = 50, return_sequences = True, input_shape = (x_train.shape[1], 1)))\n",
    "regressor.add(Dropout(0.2))"
   ]
  },
  {
   "cell_type": "markdown",
   "metadata": {
    "id": "1nIuPWxDlhin"
   },
   "source": [
    "## Adding second LSTM layer and dropout regularisation\n",
    "we do not need to specify the input shape again when adding next LSTM layer"
   ]
  },
  {
   "cell_type": "code",
   "execution_count": 46,
   "metadata": {
    "id": "I4OEC2kVk09N"
   },
   "outputs": [],
   "source": [
    "regressor.add(LSTM(units = 50, return_sequences = True))\n",
    "regressor.add(Dropout(0.2))"
   ]
  },
  {
   "cell_type": "markdown",
   "metadata": {
    "id": "YmUHmYbamP4K"
   },
   "source": [
    "## Adding third LSTM layer and dropout regularisation\n",
    "same as above"
   ]
  },
  {
   "cell_type": "code",
   "execution_count": 47,
   "metadata": {
    "id": "ndTtZkJFmHC7"
   },
   "outputs": [],
   "source": [
    "regressor.add(LSTM(units = 50, return_sequences = True))\n",
    "regressor.add(Dropout(0.2))"
   ]
  },
  {
   "cell_type": "markdown",
   "metadata": {
    "id": "If1ws5MfmaHO"
   },
   "source": [
    "## Adding fourth LSTM layer and dropout regularisation\n",
    "Since, this is the final layer of our RNN, we set return_sequences to False or remove it, because we are not returning any sequences here"
   ]
  },
  {
   "cell_type": "code",
   "execution_count": 48,
   "metadata": {
    "id": "AsJOVCHGmYVZ"
   },
   "outputs": [],
   "source": [
    "regressor.add(LSTM(units = 50, return_sequences = False))\n",
    "regressor.add(Dropout(0.2))"
   ]
  },
  {
   "cell_type": "markdown",
   "metadata": {
    "id": "O8m5t6gWpqhi"
   },
   "source": [
    "## Adding the output layer\n",
    "Since we only have one predicted output (price) we have one unit.\n",
    "Dense class is fully connected to other layers, so we use it for output"
   ]
  },
  {
   "cell_type": "code",
   "execution_count": 49,
   "metadata": {
    "id": "yaakaFc1pohw"
   },
   "outputs": [],
   "source": [
    "regressor.add(Dense(units = 1))"
   ]
  },
  {
   "cell_type": "markdown",
   "metadata": {
    "id": "a8Od5Pd6wCqi"
   },
   "source": [
    "## Compiling the RNN\n",
    "A lot of optimisers can be used. Keras suggests to use RMSprop for RNN networks https://keras.io/api/optimizers/. We can also try Adam optimiser to see the difference later"
   ]
  },
  {
   "cell_type": "code",
   "execution_count": 50,
   "metadata": {
    "id": "0And1G81to2r"
   },
   "outputs": [],
   "source": [
    "regressor.compile(optimizer = 'rmsprop', loss = 'mean_squared_error')"
   ]
  },
  {
   "cell_type": "markdown",
   "metadata": {
    "id": "KM2lF_NPHNPb"
   },
   "source": [
    "## Fitting the RNN to the Training Set\n",
    "If we try to minimise the loss to an extreme extent, it would indicate overfitting"
   ]
  },
  {
   "cell_type": "code",
   "execution_count": 51,
   "metadata": {
    "colab": {
     "base_uri": "https://localhost:8080/"
    },
    "id": "48sk-qGqHEyV",
    "outputId": "e7ecf2df-6e00-496d-a601-4762242ec56b"
   },
   "outputs": [
    {
     "name": "stdout",
     "output_type": "stream",
     "text": [
      "Epoch 1/100\n",
      "38/38 [==============================] - 12s 126ms/step - loss: 0.0322\n",
      "Epoch 2/100\n",
      "38/38 [==============================] - 5s 123ms/step - loss: 0.0148\n",
      "Epoch 3/100\n",
      "38/38 [==============================] - 5s 125ms/step - loss: 0.0121\n",
      "Epoch 4/100\n",
      "38/38 [==============================] - 5s 126ms/step - loss: 0.0099\n",
      "Epoch 5/100\n",
      "38/38 [==============================] - 5s 126ms/step - loss: 0.0098\n",
      "Epoch 6/100\n",
      "38/38 [==============================] - 5s 124ms/step - loss: 0.0093\n",
      "Epoch 7/100\n",
      "38/38 [==============================] - 5s 126ms/step - loss: 0.0080\n",
      "Epoch 8/100\n",
      "38/38 [==============================] - 5s 124ms/step - loss: 0.0069\n",
      "Epoch 9/100\n",
      "38/38 [==============================] - 5s 125ms/step - loss: 0.0072\n",
      "Epoch 10/100\n",
      "38/38 [==============================] - 5s 125ms/step - loss: 0.0072\n",
      "Epoch 11/100\n",
      "38/38 [==============================] - 5s 124ms/step - loss: 0.0058\n",
      "Epoch 12/100\n",
      "38/38 [==============================] - 5s 126ms/step - loss: 0.0062\n",
      "Epoch 13/100\n",
      "38/38 [==============================] - 5s 125ms/step - loss: 0.0061\n",
      "Epoch 14/100\n",
      "38/38 [==============================] - 5s 128ms/step - loss: 0.0053\n",
      "Epoch 15/100\n",
      "38/38 [==============================] - 5s 125ms/step - loss: 0.0056\n",
      "Epoch 16/100\n",
      "38/38 [==============================] - 5s 126ms/step - loss: 0.0052\n",
      "Epoch 17/100\n",
      "38/38 [==============================] - 5s 125ms/step - loss: 0.0044\n",
      "Epoch 18/100\n",
      "38/38 [==============================] - 5s 126ms/step - loss: 0.0048\n",
      "Epoch 19/100\n",
      "38/38 [==============================] - 5s 125ms/step - loss: 0.0045\n",
      "Epoch 20/100\n",
      "38/38 [==============================] - 5s 127ms/step - loss: 0.0044\n",
      "Epoch 21/100\n",
      "38/38 [==============================] - 5s 125ms/step - loss: 0.0036\n",
      "Epoch 22/100\n",
      "38/38 [==============================] - 5s 127ms/step - loss: 0.0045\n",
      "Epoch 23/100\n",
      "38/38 [==============================] - 5s 126ms/step - loss: 0.0044\n",
      "Epoch 24/100\n",
      "38/38 [==============================] - 5s 129ms/step - loss: 0.0038\n",
      "Epoch 25/100\n",
      "38/38 [==============================] - 5s 127ms/step - loss: 0.0038\n",
      "Epoch 26/100\n",
      "38/38 [==============================] - 5s 127ms/step - loss: 0.0036\n",
      "Epoch 27/100\n",
      "38/38 [==============================] - 5s 128ms/step - loss: 0.0037\n",
      "Epoch 28/100\n",
      "38/38 [==============================] - 5s 127ms/step - loss: 0.0033\n",
      "Epoch 29/100\n",
      "38/38 [==============================] - 5s 128ms/step - loss: 0.0034\n",
      "Epoch 30/100\n",
      "38/38 [==============================] - 5s 128ms/step - loss: 0.0029\n",
      "Epoch 31/100\n",
      "38/38 [==============================] - 5s 127ms/step - loss: 0.0034\n",
      "Epoch 32/100\n",
      "38/38 [==============================] - 5s 132ms/step - loss: 0.0029\n",
      "Epoch 33/100\n",
      "38/38 [==============================] - 5s 133ms/step - loss: 0.0031\n",
      "Epoch 34/100\n",
      "38/38 [==============================] - 5s 134ms/step - loss: 0.0030\n",
      "Epoch 35/100\n",
      "38/38 [==============================] - 5s 134ms/step - loss: 0.0031\n",
      "Epoch 36/100\n",
      "38/38 [==============================] - 5s 133ms/step - loss: 0.0028\n",
      "Epoch 37/100\n",
      "38/38 [==============================] - 5s 131ms/step - loss: 0.0027\n",
      "Epoch 38/100\n",
      "38/38 [==============================] - 5s 132ms/step - loss: 0.0028\n",
      "Epoch 39/100\n",
      "38/38 [==============================] - 5s 128ms/step - loss: 0.0030\n",
      "Epoch 40/100\n",
      "38/38 [==============================] - 5s 130ms/step - loss: 0.0029\n",
      "Epoch 41/100\n",
      "38/38 [==============================] - 5s 136ms/step - loss: 0.0026\n",
      "Epoch 42/100\n",
      "38/38 [==============================] - 5s 131ms/step - loss: 0.0026\n",
      "Epoch 43/100\n",
      "38/38 [==============================] - 5s 130ms/step - loss: 0.0027\n",
      "Epoch 44/100\n",
      "38/38 [==============================] - 5s 131ms/step - loss: 0.0026\n",
      "Epoch 45/100\n",
      "38/38 [==============================] - 5s 130ms/step - loss: 0.0027\n",
      "Epoch 46/100\n",
      "38/38 [==============================] - 5s 130ms/step - loss: 0.0024\n",
      "Epoch 47/100\n",
      "38/38 [==============================] - 5s 125ms/step - loss: 0.0024\n",
      "Epoch 48/100\n",
      "38/38 [==============================] - 5s 122ms/step - loss: 0.0023\n",
      "Epoch 49/100\n",
      "38/38 [==============================] - 5s 124ms/step - loss: 0.0024\n",
      "Epoch 50/100\n",
      "38/38 [==============================] - 5s 122ms/step - loss: 0.0024\n",
      "Epoch 51/100\n",
      "38/38 [==============================] - 5s 122ms/step - loss: 0.0024\n",
      "Epoch 52/100\n",
      "38/38 [==============================] - 5s 124ms/step - loss: 0.0023\n",
      "Epoch 53/100\n",
      "38/38 [==============================] - 5s 125ms/step - loss: 0.0022\n",
      "Epoch 54/100\n",
      "38/38 [==============================] - 5s 123ms/step - loss: 0.0022\n",
      "Epoch 55/100\n",
      "38/38 [==============================] - 5s 124ms/step - loss: 0.0024\n",
      "Epoch 56/100\n",
      "38/38 [==============================] - 5s 124ms/step - loss: 0.0021\n",
      "Epoch 57/100\n",
      "38/38 [==============================] - 5s 123ms/step - loss: 0.0023\n",
      "Epoch 58/100\n",
      "38/38 [==============================] - 5s 123ms/step - loss: 0.0022\n",
      "Epoch 59/100\n",
      "38/38 [==============================] - 5s 121ms/step - loss: 0.0023\n",
      "Epoch 60/100\n",
      "38/38 [==============================] - 5s 121ms/step - loss: 0.0021\n",
      "Epoch 61/100\n",
      "38/38 [==============================] - 5s 122ms/step - loss: 0.0021\n",
      "Epoch 62/100\n",
      "38/38 [==============================] - 5s 125ms/step - loss: 0.0023\n",
      "Epoch 63/100\n",
      "38/38 [==============================] - 5s 123ms/step - loss: 0.0022\n",
      "Epoch 64/100\n",
      "38/38 [==============================] - 5s 123ms/step - loss: 0.0021\n",
      "Epoch 65/100\n",
      "38/38 [==============================] - 5s 123ms/step - loss: 0.0019\n",
      "Epoch 66/100\n",
      "38/38 [==============================] - 5s 123ms/step - loss: 0.0018\n",
      "Epoch 67/100\n",
      "38/38 [==============================] - 5s 124ms/step - loss: 0.0019\n",
      "Epoch 68/100\n",
      "38/38 [==============================] - 5s 124ms/step - loss: 0.0019\n",
      "Epoch 69/100\n",
      "38/38 [==============================] - 5s 124ms/step - loss: 0.0019\n",
      "Epoch 70/100\n",
      "38/38 [==============================] - 5s 123ms/step - loss: 0.0017\n",
      "Epoch 71/100\n",
      "38/38 [==============================] - 5s 124ms/step - loss: 0.0021\n",
      "Epoch 72/100\n",
      "38/38 [==============================] - 5s 123ms/step - loss: 0.0019\n",
      "Epoch 73/100\n",
      "38/38 [==============================] - 5s 125ms/step - loss: 0.0018\n",
      "Epoch 74/100\n",
      "38/38 [==============================] - 5s 123ms/step - loss: 0.0018\n",
      "Epoch 75/100\n",
      "38/38 [==============================] - 5s 125ms/step - loss: 0.0019\n",
      "Epoch 76/100\n",
      "38/38 [==============================] - 5s 125ms/step - loss: 0.0019\n",
      "Epoch 77/100\n",
      "38/38 [==============================] - 5s 123ms/step - loss: 0.0018\n",
      "Epoch 78/100\n",
      "38/38 [==============================] - 5s 123ms/step - loss: 0.0019\n",
      "Epoch 79/100\n",
      "38/38 [==============================] - 5s 123ms/step - loss: 0.0020\n",
      "Epoch 80/100\n",
      "38/38 [==============================] - 5s 123ms/step - loss: 0.0016\n",
      "Epoch 81/100\n",
      "38/38 [==============================] - 5s 122ms/step - loss: 0.0019\n",
      "Epoch 82/100\n",
      "38/38 [==============================] - 5s 122ms/step - loss: 0.0018\n",
      "Epoch 83/100\n",
      "38/38 [==============================] - 5s 123ms/step - loss: 0.0015\n",
      "Epoch 84/100\n",
      "38/38 [==============================] - 5s 123ms/step - loss: 0.0017\n",
      "Epoch 85/100\n",
      "38/38 [==============================] - 5s 122ms/step - loss: 0.0016\n",
      "Epoch 86/100\n",
      "38/38 [==============================] - 5s 122ms/step - loss: 0.0018\n",
      "Epoch 87/100\n",
      "38/38 [==============================] - 5s 122ms/step - loss: 0.0015\n",
      "Epoch 88/100\n",
      "38/38 [==============================] - 5s 122ms/step - loss: 0.0016\n",
      "Epoch 89/100\n",
      "38/38 [==============================] - 5s 122ms/step - loss: 0.0017\n",
      "Epoch 90/100\n",
      "38/38 [==============================] - 5s 122ms/step - loss: 0.0017\n",
      "Epoch 91/100\n",
      "38/38 [==============================] - 5s 120ms/step - loss: 0.0015\n",
      "Epoch 92/100\n",
      "38/38 [==============================] - 5s 123ms/step - loss: 0.0016\n",
      "Epoch 93/100\n",
      "38/38 [==============================] - 5s 122ms/step - loss: 0.0015\n",
      "Epoch 94/100\n",
      "38/38 [==============================] - 5s 123ms/step - loss: 0.0015\n",
      "Epoch 95/100\n",
      "38/38 [==============================] - 5s 122ms/step - loss: 0.0016\n",
      "Epoch 96/100\n",
      "38/38 [==============================] - 5s 123ms/step - loss: 0.0015\n",
      "Epoch 97/100\n",
      "38/38 [==============================] - 5s 124ms/step - loss: 0.0017\n",
      "Epoch 98/100\n",
      "38/38 [==============================] - 5s 127ms/step - loss: 0.0015\n",
      "Epoch 99/100\n",
      "38/38 [==============================] - 5s 125ms/step - loss: 0.0017\n",
      "Epoch 100/100\n",
      "38/38 [==============================] - 5s 124ms/step - loss: 0.0016\n"
     ]
    },
    {
     "data": {
      "text/plain": [
       "<keras.callbacks.History at 0x7f121e155250>"
      ]
     },
     "execution_count": 51,
     "metadata": {},
     "output_type": "execute_result"
    }
   ],
   "source": [
    "regressor.fit(x = x_train, y = y_train, batch_size = 32, epochs = 100 )"
   ]
  },
  {
   "cell_type": "markdown",
   "metadata": {
    "id": "ld25wIOTKPY4"
   },
   "source": [
    "# Part 3: Making Predictions and Visualising Results"
   ]
  },
  {
   "cell_type": "markdown",
   "metadata": {
    "id": "dndrGbP9K4Cz"
   },
   "source": [
    "## Getting the real GOOG price"
   ]
  },
  {
   "cell_type": "code",
   "execution_count": 52,
   "metadata": {
    "id": "dw59VIFhICnq"
   },
   "outputs": [],
   "source": [
    "dataset_test = pd.read_csv('Google_Stock_Price_Test.csv')\n",
    "real_stock_price = dataset_test.iloc[:, 1:2].values"
   ]
  },
  {
   "cell_type": "markdown",
   "metadata": {
    "id": "JChPwpDLLzb8"
   },
   "source": [
    "# Predicting price for GOOG\n",
    "\n",
    "We would need to concatenate prices from the training set to test set so that for each day in test set we have access to previous 60 day open prices\n",
    "\n",
    "But concatenation need to be performed on original dataset_train and dataset_test. From this concatenation we would get input from each prediction (i.e. the 60 previous prices at each time t), which will then be scaled. We are only scaling the inputs and not changing actual test values.\n",
    "\n",
    "We need to scale inputs here because our RNN was trained on scaled inputs\n",
    "\n"
   ]
  },
  {
   "cell_type": "code",
   "execution_count": 53,
   "metadata": {
    "id": "9TdVnL5PLan2"
   },
   "outputs": [],
   "source": [
    "dataset_total = pd.concat((dataset_train['Open'], dataset_test['Open']), axis = 0) # for vertical concatenation, axis = 0\n",
    "inputs = dataset_total[len(dataset_total) - len(dataset_test) - 60 : ].values\n",
    "# we are choosing 60 previous values from dataset_train for our prediction number 1\n",
    "inputs = inputs.reshape(-1, 1) # this gets input for stock prices in 1 column\n",
    "inputs = sc.transform(inputs) \n",
    "# scaling the inputs. do not need to use fit_transform because sc object was already fitted to training set\n",
    "# scaling must be the same on which our regressor was trained"
   ]
  },
  {
   "cell_type": "code",
   "execution_count": 54,
   "metadata": {
    "id": "OPF3WRAGLbwT"
   },
   "outputs": [],
   "source": [
    "# we do not need y_test because we making predictions\n",
    "# the test set contains only 20 financial days so the upper bound in for loop would be 60+20 = 80\n",
    "x_test = []\n",
    "for i in range (60, 80):\n",
    "  x_test.append(inputs[i-60 : i, 0])\n",
    "x_test = np.array(x_test)\n",
    "# creating a 3-d structure for keras\n",
    "x_test = np.reshape(x_test, (x_test.shape[0], x_test.shape[1], 1))\n"
   ]
  },
  {
   "cell_type": "code",
   "execution_count": 55,
   "metadata": {
    "id": "c0KrTBgUb1J-"
   },
   "outputs": [],
   "source": [
    "# saving predictions in predicted_stock_price\n",
    "predicted_stock_price = regressor.predict(x_test)\n",
    "# applying the inverse transform scaling method to get unscaled values\n",
    "predicted_stock_price = sc.inverse_transform(predicted_stock_price)"
   ]
  },
  {
   "cell_type": "markdown",
   "metadata": {
    "id": "372jz_Kicwu1"
   },
   "source": [
    "## Visualising the results"
   ]
  },
  {
   "cell_type": "code",
   "execution_count": 57,
   "metadata": {
    "colab": {
     "base_uri": "https://localhost:8080/",
     "height": 295
    },
    "id": "PdP0dcmZciXl",
    "outputId": "75805bf2-64d3-4c9e-c278-3db26c1bcbed"
   },
   "outputs": [
    {
     "data": {
      "image/png": "[encoded data removed]",
      "text/plain": [
       "<Figure size 432x288 with 1 Axes>"
      ]
     },
     "metadata": {
      "needs_background": "light"
     },
     "output_type": "display_data"
    }
   ],
   "source": [
    "# plotting the real GOOG stock price\n",
    "plt.plot(real_stock_price, color = 'red', label = 'Real GOOG price')\n",
    "plt.plot(predicted_stock_price, color = 'blue', label = 'Predicted GOOG price')\n",
    "plt.title('GOOG Stock Price Prediction')\n",
    "plt.xlabel('Time')\n",
    "plt.ylabel('GOOG Stock Price')\n",
    "plt.legend()\n",
    "plt.show()"
   ]
  },
  {
   "cell_type": "markdown",
   "metadata": {
    "id": "Z5fSq_Yydvow"
   },
   "source": [
    "In most parts of our predictions we see predicted results lagging the actual price. Our model can not react fast enough to sudden chances, But model reacts very well to smooth changes and manages to follow the trend"
   ]
  },
  {
   "cell_type": "markdown",
   "metadata": {
    "id": "RpBnSSv_e9SY"
   },
   "source": [
    "# Part 4: Closing Comments\n",
    "\n",
    "**Some ways to further improve the RNN model:**\n",
    "\n",
    "  Getting more training data\n",
    "\n",
    "  Increasing the number of timesteps\n",
    "\n",
    "  Adding some other indicators (other stocks which might be correlated to our chosen stock\n",
    "\n",
    "  Adding more LSTM layers: this RNN had four LSTM layers but it could be experimented with\n",
    "\n",
    "  Adding more neurons in the LSTM layers"
   ]
  },
  {
   "cell_type": "code",
   "execution_count": null,
   "metadata": {
    "id": "393RjdyXfilT"
   },
   "outputs": [],
   "source": []
  }
 ],
 "metadata": {
  "colab": {
   "collapsed_sections": [],
   "name": "Building an LSTM to predict trend in stock prices.ipynb",
   "provenance": [],
   "toc_visible": true
  },
  "kernelspec": {
   "display_name": "Python 3 (ipykernel)",
   "language": "python",
   "name": "python3"
  },
  "language_info": {
   "codemirror_mode": {
    "name": "ipython",
    "version": 3
   },
   "file_extension": ".py",
   "mimetype": "text/x-python",
   "name": "python",
   "nbconvert_exporter": "python",
   "pygments_lexer": "ipython3",
   "version": "3.8.11"
  }
 },
 "nbformat": 4,
 "nbformat_minor": 1
}
