{
  "nbformat": 4,
  "nbformat_minor": 0,
  "metadata": {
    "colab": {
      "name": "Building an ANN (for Regression).ipynb",
      "provenance": [],
      "collapsed_sections": [],
      "toc_visible": true
    },
    "kernelspec": {
      "name": "python3",
      "display_name": "Python 3"
    },
    "language_info": {
      "name": "python"
    }
  },
  "cells": [
    {
      "cell_type": "markdown",
      "metadata": {
        "id": "jUt4IsocSA-i"
      },
      "source": [
        "Use UCI ML Repository to get data-sets for training models\n",
        "\n",
        "* Classification: predicts a category (e.g. winner of a football match)\n",
        "* Regression: predicts a continuous outcome, a real value (salary of an employee or next day's temperature)\n",
        "* Clustering: Unsupervised learning (identifying clusters of data within a high-dimensional dataset)"
      ]
    },
    {
      "cell_type": "markdown",
      "metadata": {
        "id": "37Lb1OiVTdVZ"
      },
      "source": [
        "# Artificial Neural Network (ANN) - Regression"
      ]
    },
    {
      "cell_type": "markdown",
      "metadata": {
        "id": "ya0OU1KvXhNF"
      },
      "source": [
        "The dataset contains 9568 data points collected from a Combined Cycle Power Plant over 6 years (2006-2011), when the power plant was set to work with full load. Features consist of hourly average ambient variables Temperature (T), Ambient Pressure (AP), Relative Humidity (RH) and Exhaust Vacuum (V) to predict the net hourly electrical energy output (EP) of the plant.\n",
        "\n",
        "Our aim is to predict the net hourly electrical energy output of the plant using an ANN regression model\n",
        "\n",
        "https://archive.ics.uci.edu/ml/datasets/Combined+Cycle+Power+Plant#"
      ]
    },
    {
      "cell_type": "markdown",
      "metadata": {
        "id": "c0zz9T-tTqL0"
      },
      "source": [
        "## Importing the libraries"
      ]
    },
    {
      "cell_type": "code",
      "metadata": {
        "id": "6ym1hRedQsmm"
      },
      "source": [
        "import numpy as np\n",
        "import pandas as pd\n",
        "import tensorflow as tf"
      ],
      "execution_count": null,
      "outputs": []
    },
    {
      "cell_type": "code",
      "metadata": {
        "colab": {
          "base_uri": "https://localhost:8080/",
          "height": 35
        },
        "id": "g8Vt2h98TzS1",
        "outputId": "4e0ed9a1-5765-414f-f7f7-c245bca8b043"
      },
      "source": [
        "tf.__version__ # checking tensorflow version"
      ],
      "execution_count": null,
      "outputs": [
        {
          "output_type": "execute_result",
          "data": {
            "application/vnd.google.colaboratory.intrinsic+json": {
              "type": "string"
            },
            "text/plain": [
              "'2.6.0'"
            ]
          },
          "metadata": {},
          "execution_count": 2
        }
      ]
    },
    {
      "cell_type": "markdown",
      "metadata": {
        "id": "hl4_Zp6cUPq_"
      },
      "source": [
        "## Part 1: Data Preprocessing"
      ]
    },
    {
      "cell_type": "markdown",
      "metadata": {
        "id": "h3ash7J6UYME"
      },
      "source": [
        "### Importing the dataset\n",
        "\n",
        "\n"
      ]
    },
    {
      "cell_type": "markdown",
      "metadata": {
        "id": "7BkxeXLMWnNF"
      },
      "source": [
        "NN or ML models require creation of two separate subsets:\n",
        "\n",
        "**a. Matrix Features** - subset of data containing all features (independent varibles). In this case Temperature, Ambient Pressure, Relative Humidity and Exhaust Vacuum\n",
        "\n",
        "**b. Dependent variable vector** - one single variable which we want to predict. In this case the net hourly electrical energy output"
      ]
    },
    {
      "cell_type": "code",
      "metadata": {
        "id": "S26qMGFmT5-O"
      },
      "source": [
        "dataset = pd.read_excel('Folds5x2_pp.xlsx')\n",
        "x = dataset.iloc[:, :-1].values # second colon specifies a range. A range in python includes lower bound but excludes upper bound\n",
        "y = dataset.iloc[:, -1].values"
      ],
      "execution_count": 4,
      "outputs": []
    },
    {
      "cell_type": "code",
      "metadata": {
        "colab": {
          "base_uri": "https://localhost:8080/"
        },
        "id": "E-YzDDasaYPg",
        "outputId": "eee2c03c-36d5-48be-f4d4-9d28991f6450"
      },
      "source": [
        "print(x)\n",
        "print(y)"
      ],
      "execution_count": 7,
      "outputs": [
        {
          "output_type": "stream",
          "name": "stdout",
          "text": [
            "[[  14.96   41.76 1024.07   73.17]\n",
            " [  25.18   62.96 1020.04   59.08]\n",
            " [   5.11   39.4  1012.16   92.14]\n",
            " ...\n",
            " [  31.32   74.33 1012.92   36.48]\n",
            " [  24.48   69.45 1013.86   62.39]\n",
            " [  21.6    62.52 1017.23   67.87]]\n",
            "[463.26 444.37 488.56 ... 429.57 435.74 453.28]\n"
          ]
        }
      ]
    },
    {
      "cell_type": "markdown",
      "metadata": {
        "id": "YM47bfGgVmcK"
      },
      "source": [
        "### Splitting the dataset into Training Set and Test set"
      ]
    },
    {
      "cell_type": "code",
      "metadata": {
        "id": "IDjIRuDIVzfd"
      },
      "source": [
        "from sklearn.model_selection import train_test_split \n",
        "# this function takes input as subsets and NOT dataframe. So we need 4 variables\n",
        "x_train, x_test, y_train, y_test = train_test_split(x, y, test_size = 0.2, random_state = 0) \n",
        "# choosing 20% observations in test set. \n",
        "# random_state fixes the randomness of training-test split. It is not cumpulsory to use random_state\n"
      ],
      "execution_count": 8,
      "outputs": []
    },
    {
      "cell_type": "markdown",
      "metadata": {
        "id": "VFiSuTcxcSD9"
      },
      "source": [
        "## Part 2: Building the ANN"
      ]
    },
    {
      "cell_type": "markdown",
      "metadata": {
        "id": "2OCm6LTrcraW"
      },
      "source": [
        "### Initialising the ANN\n",
        "as a sequence of layers. The other type of ANN is a computational graph"
      ]
    },
    {
      "cell_type": "markdown",
      "metadata": {
        "id": "cLrddp9-dFbl"
      },
      "source": [
        "Creating an object of sequential class using tensorflow"
      ]
    },
    {
      "cell_type": "code",
      "metadata": {
        "id": "1lU8N2izcqvG"
      },
      "source": [
        "ann = tf.keras.models.Sequential()"
      ],
      "execution_count": 10,
      "outputs": []
    },
    {
      "cell_type": "markdown",
      "metadata": {
        "id": "l_3GFL69eHqA"
      },
      "source": [
        "### Adding the input layer and the first hidden layer\n",
        "the layers are added as an object of Dense class (class names always start with a capital letter). Dense class exists in layers in keras library, which is in turn part of tensorflow.\n",
        "\n",
        "It is called Dense because the input layer and hidden layer neurons have full connection\n",
        "\n",
        "We do not need to add units for the inputs as they are automatically recognised. However, we do need to add neuron units for the hidden layer, as well as the type of activation function we wish to use (here 6). Here we use the rectifier (relu) activation function, which fires up after a certain limit is reached"
      ]
    },
    {
      "cell_type": "code",
      "metadata": {
        "id": "z0e_pKuteG55"
      },
      "source": [
        "ann.add(tf.keras.layers.Dense(units = 6, activation = 'relu'))"
      ],
      "execution_count": 11,
      "outputs": []
    },
    {
      "cell_type": "markdown",
      "metadata": {
        "id": "DMsctVyZgQNL"
      },
      "source": [
        "### Adding the second hidden layer\n",
        "the method to do this is exactly the same as above. A Neural Network becomes 'Deep' when there is more than one hidden layer"
      ]
    },
    {
      "cell_type": "code",
      "metadata": {
        "id": "BTNSxaoegO6S"
      },
      "source": [
        "ann.add(tf.keras.layers.Dense(units = 6, activation = 'relu'))"
      ],
      "execution_count": 12,
      "outputs": []
    },
    {
      "cell_type": "markdown",
      "metadata": {
        "id": "cbBSbviBgvBF"
      },
      "source": [
        "### Adding the Output layer\n",
        "**Sigmoid (for two categories) and Softmax (for more than two categories) activation functions for the output layer are generally used in ANN Classification algorithms. It is better to leave the activation field in Regression algorithms as default**"
      ]
    },
    {
      "cell_type": "code",
      "metadata": {
        "id": "pZU3o0m7gaGp"
      },
      "source": [
        "ann.add(tf.keras.layers.Dense(units = 1))"
      ],
      "execution_count": 15,
      "outputs": []
    },
    {
      "cell_type": "markdown",
      "metadata": {
        "id": "HYQt64KAh_Bq"
      },
      "source": [
        "## Part 3: Training the ANN"
      ]
    },
    {
      "cell_type": "markdown",
      "metadata": {
        "id": "NiMriomgicIJ"
      },
      "source": [
        "### Compiling the ANN\n",
        "connecting the ANN to an optimiser which reduces the loss during backward propagation, stochastic gradient descent. And choosing the Loss function\n",
        "\n",
        "Adam is the most popular optimiser, and can be used for both Regression and Classification\n",
        "\n",
        "Loss used here mean-squared-error (or root-means-squared-error) as in any Regression task. Mean-squared-error here is the sum of squared differences between the predictions and real energy outputs in the batch"
      ]
    },
    {
      "cell_type": "code",
      "metadata": {
        "id": "9fNg3VPFh54o"
      },
      "source": [
        "ann.compile(optimizer = 'adam', loss = 'mean_squared_error')"
      ],
      "execution_count": 16,
      "outputs": []
    },
    {
      "cell_type": "markdown",
      "metadata": {
        "id": "aPxTMrFgiyXj"
      },
      "source": [
        "### Training the ANN model on the Training set"
      ]
    },
    {
      "cell_type": "code",
      "metadata": {
        "colab": {
          "base_uri": "https://localhost:8080/"
        },
        "id": "IJHlhm0ai32d",
        "outputId": "77b705ad-3973-4912-a8fe-5a3f8f1e7262"
      },
      "source": [
        "ann.fit(x = x_train, y = y_train, batch_size = 32, epochs = 100)"
      ],
      "execution_count": 17,
      "outputs": [
        {
          "output_type": "stream",
          "name": "stdout",
          "text": [
            "Epoch 1/100\n",
            "240/240 [==============================] - 1s 1ms/step - loss: 4598.4683\n",
            "Epoch 2/100\n",
            "240/240 [==============================] - 0s 1ms/step - loss: 155.5544\n",
            "Epoch 3/100\n",
            "240/240 [==============================] - 0s 1ms/step - loss: 149.4714\n",
            "Epoch 4/100\n",
            "240/240 [==============================] - 0s 1ms/step - loss: 142.1018\n",
            "Epoch 5/100\n",
            "240/240 [==============================] - 0s 1ms/step - loss: 133.2745\n",
            "Epoch 6/100\n",
            "240/240 [==============================] - 0s 1ms/step - loss: 123.9462\n",
            "Epoch 7/100\n",
            "240/240 [==============================] - 0s 1ms/step - loss: 115.0486\n",
            "Epoch 8/100\n",
            "240/240 [==============================] - 0s 1ms/step - loss: 105.1524\n",
            "Epoch 9/100\n",
            "240/240 [==============================] - 0s 1ms/step - loss: 95.7043\n",
            "Epoch 10/100\n",
            "240/240 [==============================] - 0s 1ms/step - loss: 86.6233\n",
            "Epoch 11/100\n",
            "240/240 [==============================] - 0s 2ms/step - loss: 78.6361\n",
            "Epoch 12/100\n",
            "240/240 [==============================] - 0s 1ms/step - loss: 71.5262\n",
            "Epoch 13/100\n",
            "240/240 [==============================] - 0s 1ms/step - loss: 65.0219\n",
            "Epoch 14/100\n",
            "240/240 [==============================] - 0s 2ms/step - loss: 58.5613\n",
            "Epoch 15/100\n",
            "240/240 [==============================] - 0s 1ms/step - loss: 52.6217\n",
            "Epoch 16/100\n",
            "240/240 [==============================] - 0s 1ms/step - loss: 48.2048\n",
            "Epoch 17/100\n",
            "240/240 [==============================] - 0s 1ms/step - loss: 44.0296\n",
            "Epoch 18/100\n",
            "240/240 [==============================] - 0s 1ms/step - loss: 40.4046\n",
            "Epoch 19/100\n",
            "240/240 [==============================] - 0s 1ms/step - loss: 37.8336\n",
            "Epoch 20/100\n",
            "240/240 [==============================] - 0s 1ms/step - loss: 35.2496\n",
            "Epoch 21/100\n",
            "240/240 [==============================] - 0s 1ms/step - loss: 33.3202\n",
            "Epoch 22/100\n",
            "240/240 [==============================] - 0s 1ms/step - loss: 32.0145\n",
            "Epoch 23/100\n",
            "240/240 [==============================] - 0s 1ms/step - loss: 31.1429\n",
            "Epoch 24/100\n",
            "240/240 [==============================] - 0s 1ms/step - loss: 29.7142\n",
            "Epoch 25/100\n",
            "240/240 [==============================] - 0s 1ms/step - loss: 29.5169\n",
            "Epoch 26/100\n",
            "240/240 [==============================] - 0s 1ms/step - loss: 28.8359\n",
            "Epoch 27/100\n",
            "240/240 [==============================] - 0s 1ms/step - loss: 28.7385\n",
            "Epoch 28/100\n",
            "240/240 [==============================] - 0s 1ms/step - loss: 28.9563\n",
            "Epoch 29/100\n",
            "240/240 [==============================] - 0s 1ms/step - loss: 28.2657\n",
            "Epoch 30/100\n",
            "240/240 [==============================] - 0s 1ms/step - loss: 28.3667\n",
            "Epoch 31/100\n",
            "240/240 [==============================] - 0s 1ms/step - loss: 28.2160\n",
            "Epoch 32/100\n",
            "240/240 [==============================] - 0s 1ms/step - loss: 28.7802\n",
            "Epoch 33/100\n",
            "240/240 [==============================] - 0s 1ms/step - loss: 27.8658\n",
            "Epoch 34/100\n",
            "240/240 [==============================] - 0s 1ms/step - loss: 27.6830\n",
            "Epoch 35/100\n",
            "240/240 [==============================] - 0s 1ms/step - loss: 27.8328\n",
            "Epoch 36/100\n",
            "240/240 [==============================] - 0s 1ms/step - loss: 27.9741\n",
            "Epoch 37/100\n",
            "240/240 [==============================] - 0s 1ms/step - loss: 27.4873\n",
            "Epoch 38/100\n",
            "240/240 [==============================] - 0s 1ms/step - loss: 27.3969\n",
            "Epoch 39/100\n",
            "240/240 [==============================] - 0s 1ms/step - loss: 27.7650\n",
            "Epoch 40/100\n",
            "240/240 [==============================] - 0s 1ms/step - loss: 27.3309\n",
            "Epoch 41/100\n",
            "240/240 [==============================] - 0s 1ms/step - loss: 27.1268\n",
            "Epoch 42/100\n",
            "240/240 [==============================] - 0s 1ms/step - loss: 28.2769\n",
            "Epoch 43/100\n",
            "240/240 [==============================] - 0s 1ms/step - loss: 27.5089\n",
            "Epoch 44/100\n",
            "240/240 [==============================] - 0s 1ms/step - loss: 27.7902\n",
            "Epoch 45/100\n",
            "240/240 [==============================] - 0s 1ms/step - loss: 27.2886\n",
            "Epoch 46/100\n",
            "240/240 [==============================] - 0s 1ms/step - loss: 27.6577\n",
            "Epoch 47/100\n",
            "240/240 [==============================] - 0s 1ms/step - loss: 27.2033\n",
            "Epoch 48/100\n",
            "240/240 [==============================] - 0s 1ms/step - loss: 27.5669\n",
            "Epoch 49/100\n",
            "240/240 [==============================] - 0s 1ms/step - loss: 27.1413\n",
            "Epoch 50/100\n",
            "240/240 [==============================] - 0s 1ms/step - loss: 27.3069\n",
            "Epoch 51/100\n",
            "240/240 [==============================] - 0s 1ms/step - loss: 27.5108\n",
            "Epoch 52/100\n",
            "240/240 [==============================] - 0s 1ms/step - loss: 26.7451\n",
            "Epoch 53/100\n",
            "240/240 [==============================] - 0s 1ms/step - loss: 27.2012\n",
            "Epoch 54/100\n",
            "240/240 [==============================] - 0s 1ms/step - loss: 26.9605\n",
            "Epoch 55/100\n",
            "240/240 [==============================] - 0s 1ms/step - loss: 26.4710\n",
            "Epoch 56/100\n",
            "240/240 [==============================] - 0s 1ms/step - loss: 26.9409\n",
            "Epoch 57/100\n",
            "240/240 [==============================] - 0s 1ms/step - loss: 26.5294\n",
            "Epoch 58/100\n",
            "240/240 [==============================] - 0s 1ms/step - loss: 26.7294\n",
            "Epoch 59/100\n",
            "240/240 [==============================] - 0s 1ms/step - loss: 27.0007\n",
            "Epoch 60/100\n",
            "240/240 [==============================] - 0s 2ms/step - loss: 27.0474\n",
            "Epoch 61/100\n",
            "240/240 [==============================] - 0s 1ms/step - loss: 26.9818\n",
            "Epoch 62/100\n",
            "240/240 [==============================] - 0s 1ms/step - loss: 27.3710\n",
            "Epoch 63/100\n",
            "240/240 [==============================] - 0s 1ms/step - loss: 27.1073\n",
            "Epoch 64/100\n",
            "240/240 [==============================] - 0s 1ms/step - loss: 27.3100\n",
            "Epoch 65/100\n",
            "240/240 [==============================] - 0s 1ms/step - loss: 26.7724\n",
            "Epoch 66/100\n",
            "240/240 [==============================] - 0s 1ms/step - loss: 27.4727\n",
            "Epoch 67/100\n",
            "240/240 [==============================] - 0s 1ms/step - loss: 27.0512\n",
            "Epoch 68/100\n",
            "240/240 [==============================] - 0s 1ms/step - loss: 27.4710\n",
            "Epoch 69/100\n",
            "240/240 [==============================] - 0s 1ms/step - loss: 27.1497\n",
            "Epoch 70/100\n",
            "240/240 [==============================] - 0s 1ms/step - loss: 26.6664\n",
            "Epoch 71/100\n",
            "240/240 [==============================] - 0s 1ms/step - loss: 26.7576\n",
            "Epoch 72/100\n",
            "240/240 [==============================] - 0s 1ms/step - loss: 26.5951\n",
            "Epoch 73/100\n",
            "240/240 [==============================] - 0s 1ms/step - loss: 26.8266\n",
            "Epoch 74/100\n",
            "240/240 [==============================] - 0s 1ms/step - loss: 27.0307\n",
            "Epoch 75/100\n",
            "240/240 [==============================] - 0s 1ms/step - loss: 26.8962\n",
            "Epoch 76/100\n",
            "240/240 [==============================] - 0s 1ms/step - loss: 26.8512\n",
            "Epoch 77/100\n",
            "240/240 [==============================] - 0s 1ms/step - loss: 26.5661\n",
            "Epoch 78/100\n",
            "240/240 [==============================] - 0s 1ms/step - loss: 26.7049\n",
            "Epoch 79/100\n",
            "240/240 [==============================] - 0s 1ms/step - loss: 26.8091\n",
            "Epoch 80/100\n",
            "240/240 [==============================] - 0s 1ms/step - loss: 26.6250\n",
            "Epoch 81/100\n",
            "240/240 [==============================] - 0s 1ms/step - loss: 26.7243\n",
            "Epoch 82/100\n",
            "240/240 [==============================] - 0s 1ms/step - loss: 26.8353\n",
            "Epoch 83/100\n",
            "240/240 [==============================] - 0s 1ms/step - loss: 26.8150\n",
            "Epoch 84/100\n",
            "240/240 [==============================] - 0s 1ms/step - loss: 27.0313\n",
            "Epoch 85/100\n",
            "240/240 [==============================] - 0s 1ms/step - loss: 27.1751\n",
            "Epoch 86/100\n",
            "240/240 [==============================] - 0s 1ms/step - loss: 26.7879\n",
            "Epoch 87/100\n",
            "240/240 [==============================] - 0s 1ms/step - loss: 27.0111\n",
            "Epoch 88/100\n",
            "240/240 [==============================] - 0s 1ms/step - loss: 27.1338\n",
            "Epoch 89/100\n",
            "240/240 [==============================] - 0s 1ms/step - loss: 26.6905\n",
            "Epoch 90/100\n",
            "240/240 [==============================] - 0s 1ms/step - loss: 27.2075\n",
            "Epoch 91/100\n",
            "240/240 [==============================] - 0s 1ms/step - loss: 26.9519\n",
            "Epoch 92/100\n",
            "240/240 [==============================] - 0s 1ms/step - loss: 28.0556\n",
            "Epoch 93/100\n",
            "240/240 [==============================] - 0s 1ms/step - loss: 26.5238\n",
            "Epoch 94/100\n",
            "240/240 [==============================] - 0s 1ms/step - loss: 26.3545\n",
            "Epoch 95/100\n",
            "240/240 [==============================] - 0s 1ms/step - loss: 26.5751\n",
            "Epoch 96/100\n",
            "240/240 [==============================] - 0s 2ms/step - loss: 26.4434\n",
            "Epoch 97/100\n",
            "240/240 [==============================] - 0s 1ms/step - loss: 26.9940\n",
            "Epoch 98/100\n",
            "240/240 [==============================] - 0s 1ms/step - loss: 27.2254\n",
            "Epoch 99/100\n",
            "240/240 [==============================] - 0s 1ms/step - loss: 27.0537\n",
            "Epoch 100/100\n",
            "240/240 [==============================] - 0s 1ms/step - loss: 27.3404\n"
          ]
        },
        {
          "output_type": "execute_result",
          "data": {
            "text/plain": [
              "<keras.callbacks.History at 0x7f0704955f90>"
            ]
          },
          "metadata": {},
          "execution_count": 17
        }
      ]
    },
    {
      "cell_type": "markdown",
      "metadata": {
        "id": "9XXdyqHti4Ye"
      },
      "source": [
        "### Predicting results of the Test set"
      ]
    },
    {
      "cell_type": "code",
      "metadata": {
        "colab": {
          "base_uri": "https://localhost:8080/"
        },
        "id": "p9e6PB80i8AK",
        "outputId": "6fd00342-0a71-4a91-c7bb-14ed6748097a"
      },
      "source": [
        "y_pred = ann.predict(x_test) # saving predictions to a vector y_pred to compare with actual y_test values\n",
        "np.set_printoptions(precision = 2) # using numpy changing to two figured after decimal point \n",
        "# changing y_pred and y_test vectors from horizontal to vertical\n",
        "# concatening the vectors vertically for side-by-side comparison. 1 --> vertical, 0 --> horizontal\n",
        "print(np.concatenate((y_pred.reshape(len(y_pred),1) , y_test.reshape(len(y_test),1)), 1))"
      ],
      "execution_count": 25,
      "outputs": [
        {
          "output_type": "stream",
          "name": "stdout",
          "text": [
            "[[432.03 431.23]\n",
            " [463.15 460.01]\n",
            " [466.64 461.14]\n",
            " ...\n",
            " [473.93 473.26]\n",
            " [440.6  438.  ]\n",
            " [459.88 463.28]]\n"
          ]
        }
      ]
    },
    {
      "cell_type": "markdown",
      "metadata": {
        "id": "Pzqntd3aqU2P"
      },
      "source": [
        "As we can see our ANN performed well and predicted values are really close to actual values"
      ]
    }
  ]
}
